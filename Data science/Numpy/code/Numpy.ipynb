{
 "cells": [
  {
   "cell_type": "code",
   "execution_count": 2,
   "metadata": {},
   "outputs": [],
   "source": [
    "import numpy as np # type: ignore\n"
   ]
  },
  {
   "cell_type": "markdown",
   "metadata": {},
   "source": [
    "1. Create a 3x3 array that contains a diagonal of nines.\n"
   ]
  },
  {
   "cell_type": "code",
   "execution_count": 11,
   "metadata": {},
   "outputs": [
    {
     "name": "stdout",
     "output_type": "stream",
     "text": [
      "[[9 0 0]\n",
      " [0 9 0]\n",
      " [0 0 9]]\n"
     ]
    }
   ],
   "source": [
    "arr1=np.diag([9,9,9])\n",
    "print(arr1)"
   ]
  },
  {
   "cell_type": "markdown",
   "metadata": {},
   "source": [
    "Create a 4 x 4 ndarray that only contains consecutive even numbers from 2 to 32 (inclusive) \n",
    "and use boolean indexing to pick out the values that are within 1/2 standard deviations of the mean."
   ]
  },
  {
   "cell_type": "code",
   "execution_count": 12,
   "metadata": {},
   "outputs": [
    {
     "name": "stdout",
     "output_type": "stream",
     "text": [
      "4x4 ndarray with consecutive even numbers:\n",
      " [[ 2  4  6  8]\n",
      " [10 12 14 16]\n",
      " [18 20 22 24]\n",
      " [26 28 30 32]]\n",
      "Values within 1/2 standard deviations of the mean:\n",
      " [14 16 18 20]\n"
     ]
    }
   ],
   "source": [
    "arr2=np.arange(2,34,2).reshape(4,4)\n",
    "mean=arr2.mean()\n",
    "std=arr2.std()\n",
    "\n",
    "within_half_std = arr2[(arr2 >= mean - 0.5 * std) &\n",
    "                        (arr2 <= mean + 0.5 * std)]\n",
    "print(\"4x4 ndarray with consecutive even numbers:\\n\", arr2)\n",
    "print(\"Values within 1/2 standard deviations of the mean:\\n\", within_half_std)\n"
   ]
  },
  {
   "cell_type": "markdown",
   "metadata": {},
   "source": [
    "3. Create a 9x9 array that contains only zeros of type int."
   ]
  },
  {
   "cell_type": "code",
   "execution_count": 13,
   "metadata": {},
   "outputs": [
    {
     "name": "stdout",
     "output_type": "stream",
     "text": [
      "[[0 0 0 0 0 0 0 0 0]\n",
      " [0 0 0 0 0 0 0 0 0]\n",
      " [0 0 0 0 0 0 0 0 0]\n",
      " [0 0 0 0 0 0 0 0 0]\n",
      " [0 0 0 0 0 0 0 0 0]\n",
      " [0 0 0 0 0 0 0 0 0]\n",
      " [0 0 0 0 0 0 0 0 0]\n",
      " [0 0 0 0 0 0 0 0 0]\n",
      " [0 0 0 0 0 0 0 0 0]]\n"
     ]
    }
   ],
   "source": [
    "arr3=np.zeros((9,9), dtype=int)\n",
    "print(arr3)"
   ]
  },
  {
   "cell_type": "markdown",
   "metadata": {},
   "source": [
    "\n",
    "4. Ask the user for a number n. Then, use broadcasting to create a n x n ndarray that has its\n",
    "\n",
    " first column full of ones, its second column full of twos, its third column full of threes, etc…\n"
   ]
  },
  {
   "cell_type": "code",
   "execution_count": 25,
   "metadata": {},
   "outputs": [],
   "source": [
    "n = int(input(\"Enter the value of n: \"))\n",
    "arr4= np.arange(1, n + 1).reshape(1, n) * np.ones((n, 1), dtype=int)\n",
    "print(arr4)"
   ]
  },
  {
   "cell_type": "markdown",
   "metadata": {},
   "source": [
    "https://codeforces.com/contest/707/problem/A"
   ]
  },
  {
   "cell_type": "code",
   "execution_count": 4,
   "metadata": {},
   "outputs": [
    {
     "ename": "ValueError",
     "evalue": "invalid literal for int() with base 10: ''",
     "output_type": "error",
     "traceback": [
      "\u001b[1;31m---------------------------------------------------------------------------\u001b[0m",
      "\u001b[1;31mValueError\u001b[0m                                Traceback (most recent call last)",
      "Cell \u001b[1;32mIn[4], line 2\u001b[0m\n\u001b[0;32m      1\u001b[0m \u001b[38;5;66;03m# Read input\u001b[39;00m\n\u001b[1;32m----> 2\u001b[0m n \u001b[38;5;241m=\u001b[39m \u001b[38;5;28mint\u001b[39m(\u001b[38;5;28minput\u001b[39m())\n\u001b[0;32m      3\u001b[0m cards \u001b[38;5;241m=\u001b[39m np\u001b[38;5;241m.\u001b[39marray(\u001b[38;5;28mlist\u001b[39m(\u001b[38;5;28mmap\u001b[39m(\u001b[38;5;28mint\u001b[39m, \u001b[38;5;28minput\u001b[39m()\u001b[38;5;241m.\u001b[39msplit())))\n\u001b[0;32m      5\u001b[0m \u001b[38;5;66;03m# Initialize scores\u001b[39;00m\n",
      "\u001b[1;31mValueError\u001b[0m: invalid literal for int() with base 10: ''"
     ]
    }
   ],
   "source": [
    "\n",
    "\n",
    "# Read input\n",
    "n = int(input())\n",
    "cards = np.array(list(map(int, input().split())))\n",
    "\n",
    "# Initialize scores\n",
    "sereja_score = 0\n",
    "dima_score = 0\n",
    "\n",
    "# Initialize turn flag\n",
    "turn_sereja = True\n",
    "\n",
    "# Game simulation\n",
    "while cards.size > 0:\n",
    "    # Determine the larger value from the ends\n",
    "    if cards[0] > cards[-1]:\n",
    "        chosen_card = cards[0]\n",
    "        cards = cards[1:]  # Remove the leftmost card\n",
    "    else:\n",
    "        chosen_card = cards[-1]\n",
    "        cards = cards[:-1]  # Remove the rightmost card\n",
    "    \n",
    "    # Assign the chosen card's value to the current player\n",
    "    if turn_sereja:\n",
    "        sereja_score += chosen_card\n",
    "    else:\n",
    "        dima_score += chosen_card\n",
    "    \n",
    "    # Alternate turns\n",
    "    turn_sereja = not turn_sereja\n",
    "\n",
    "# Print the final scores\n",
    "print(sereja_score, dima_score)\n"
   ]
  },
  {
   "cell_type": "markdown",
   "metadata": {},
   "source": [
    "https://codeforces.com/contest/707/problem/A"
   ]
  },
  {
   "cell_type": "code",
   "execution_count": null,
   "metadata": {},
   "outputs": [],
   "source": [
    "import numpy as np\n",
    "\n",
    "# Read the dimensions of the matrix\n",
    "n, m = map(int, input().split())\n",
    "\n",
    "# Initialize the matrix\n",
    "matrix = np.array([input().split() for _ in range(n)])\n",
    "\n",
    "# Define the set of colored pixels\n",
    "colored_pixels = {'C', 'M', 'Y'}\n",
    "\n",
    "# Check if any element in the matrix is a colored pixel\n",
    "is_colored = np.isin(matrix, list(colored_pixels)).any()\n",
    "\n",
    "# Print the result based on the presence of colored pixels\n",
    "if is_colored:\n",
    "    print(\"#Color\")\n",
    "else:\n",
    "    print(\"#Black&White\")\n"
   ]
  }
 ],
 "metadata": {
  "kernelspec": {
   "display_name": "base",
   "language": "python",
   "name": "python3"
  },
  "language_info": {
   "codemirror_mode": {
    "name": "ipython",
    "version": 3
   },
   "file_extension": ".py",
   "mimetype": "text/x-python",
   "name": "python",
   "nbconvert_exporter": "python",
   "pygments_lexer": "ipython3",
   "version": "3.11.7"
  }
 },
 "nbformat": 4,
 "nbformat_minor": 2
}
